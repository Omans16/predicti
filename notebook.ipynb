{
 "cells": [
  {
   "cell_type": "markdown",
   "id": "92d1fc07",
   "metadata": {},
   "source": [
    "## 1. Import Library"
   ]
  },
  {
   "cell_type": "markdown",
   "id": "5db1fe65",
   "metadata": {},
   "source": [
    "Pada tahap ini, Anda perlu mengimpor beberapa pustaka (library) Python yang dibutuhkan untuk analisis data dan pembangunan model machine learning."
   ]
  },
  {
   "cell_type": "code",
   "execution_count": 208,
   "id": "49abee6e",
   "metadata": {},
   "outputs": [],
   "source": [
    "import pandas as pd\n",
    "import numpy as np\n",
    "import matplotlib.pyplot as plt\n",
    "import seaborn as sns\n",
    "from sklearn.calibration import LabelEncoder\n",
    "from sklearn.discriminant_analysis import StandardScaler\n",
    "from sklearn.model_selection import train_test_split\n",
    "from sklearn.linear_model import LogisticRegression\n",
    "from sklearn.tree import DecisionTreeClassifier\n",
    "from sklearn.neighbors import KNeighborsClassifier\n",
    "from sklearn.ensemble import RandomForestClassifier\n",
    "from xgboost import XGBClassifier\n",
    "from lightgbm import LGBMClassifier\n",
    "from sklearn.metrics import confusion_matrix, accuracy_score, precision_score, recall_score, f1_score, roc_auc_score\n",
    "from sklearn.metrics import classification_report"
   ]
  },
  {
   "cell_type": "markdown",
   "id": "aabce868",
   "metadata": {},
   "source": [
    "## 2. Data Understanding"
   ]
  },
  {
   "cell_type": "markdown",
   "id": "8b20b689",
   "metadata": {},
   "source": [
    "### Load Dataset"
   ]
  },
  {
   "cell_type": "code",
   "execution_count": 209,
   "id": "677525db",
   "metadata": {},
   "outputs": [
    {
     "data": {
      "text/html": [
       "<div>\n",
       "<style scoped>\n",
       "    .dataframe tbody tr th:only-of-type {\n",
       "        vertical-align: middle;\n",
       "    }\n",
       "\n",
       "    .dataframe tbody tr th {\n",
       "        vertical-align: top;\n",
       "    }\n",
       "\n",
       "    .dataframe thead th {\n",
       "        text-align: right;\n",
       "    }\n",
       "</style>\n",
       "<table border=\"1\" class=\"dataframe\">\n",
       "  <thead>\n",
       "    <tr style=\"text-align: right;\">\n",
       "      <th></th>\n",
       "      <th>id</th>\n",
       "      <th>age</th>\n",
       "      <th>gender</th>\n",
       "      <th>height</th>\n",
       "      <th>weight</th>\n",
       "      <th>ap_hi</th>\n",
       "      <th>ap_lo</th>\n",
       "      <th>cholesterol</th>\n",
       "      <th>gluc</th>\n",
       "      <th>smoke</th>\n",
       "      <th>alco</th>\n",
       "      <th>active</th>\n",
       "      <th>cardio</th>\n",
       "    </tr>\n",
       "  </thead>\n",
       "  <tbody>\n",
       "    <tr>\n",
       "      <th>0</th>\n",
       "      <td>0</td>\n",
       "      <td>18393</td>\n",
       "      <td>2</td>\n",
       "      <td>168</td>\n",
       "      <td>62.0</td>\n",
       "      <td>110</td>\n",
       "      <td>80</td>\n",
       "      <td>1</td>\n",
       "      <td>1</td>\n",
       "      <td>0</td>\n",
       "      <td>0</td>\n",
       "      <td>1</td>\n",
       "      <td>0</td>\n",
       "    </tr>\n",
       "    <tr>\n",
       "      <th>1</th>\n",
       "      <td>1</td>\n",
       "      <td>20228</td>\n",
       "      <td>1</td>\n",
       "      <td>156</td>\n",
       "      <td>85.0</td>\n",
       "      <td>140</td>\n",
       "      <td>90</td>\n",
       "      <td>3</td>\n",
       "      <td>1</td>\n",
       "      <td>0</td>\n",
       "      <td>0</td>\n",
       "      <td>1</td>\n",
       "      <td>1</td>\n",
       "    </tr>\n",
       "    <tr>\n",
       "      <th>2</th>\n",
       "      <td>2</td>\n",
       "      <td>18857</td>\n",
       "      <td>1</td>\n",
       "      <td>165</td>\n",
       "      <td>64.0</td>\n",
       "      <td>130</td>\n",
       "      <td>70</td>\n",
       "      <td>3</td>\n",
       "      <td>1</td>\n",
       "      <td>0</td>\n",
       "      <td>0</td>\n",
       "      <td>0</td>\n",
       "      <td>1</td>\n",
       "    </tr>\n",
       "    <tr>\n",
       "      <th>3</th>\n",
       "      <td>3</td>\n",
       "      <td>17623</td>\n",
       "      <td>2</td>\n",
       "      <td>169</td>\n",
       "      <td>82.0</td>\n",
       "      <td>150</td>\n",
       "      <td>100</td>\n",
       "      <td>1</td>\n",
       "      <td>1</td>\n",
       "      <td>0</td>\n",
       "      <td>0</td>\n",
       "      <td>1</td>\n",
       "      <td>1</td>\n",
       "    </tr>\n",
       "    <tr>\n",
       "      <th>4</th>\n",
       "      <td>4</td>\n",
       "      <td>17474</td>\n",
       "      <td>1</td>\n",
       "      <td>156</td>\n",
       "      <td>56.0</td>\n",
       "      <td>100</td>\n",
       "      <td>60</td>\n",
       "      <td>1</td>\n",
       "      <td>1</td>\n",
       "      <td>0</td>\n",
       "      <td>0</td>\n",
       "      <td>0</td>\n",
       "      <td>0</td>\n",
       "    </tr>\n",
       "    <tr>\n",
       "      <th>...</th>\n",
       "      <td>...</td>\n",
       "      <td>...</td>\n",
       "      <td>...</td>\n",
       "      <td>...</td>\n",
       "      <td>...</td>\n",
       "      <td>...</td>\n",
       "      <td>...</td>\n",
       "      <td>...</td>\n",
       "      <td>...</td>\n",
       "      <td>...</td>\n",
       "      <td>...</td>\n",
       "      <td>...</td>\n",
       "      <td>...</td>\n",
       "    </tr>\n",
       "    <tr>\n",
       "      <th>69995</th>\n",
       "      <td>99993</td>\n",
       "      <td>19240</td>\n",
       "      <td>2</td>\n",
       "      <td>168</td>\n",
       "      <td>76.0</td>\n",
       "      <td>120</td>\n",
       "      <td>80</td>\n",
       "      <td>1</td>\n",
       "      <td>1</td>\n",
       "      <td>1</td>\n",
       "      <td>0</td>\n",
       "      <td>1</td>\n",
       "      <td>0</td>\n",
       "    </tr>\n",
       "    <tr>\n",
       "      <th>69996</th>\n",
       "      <td>99995</td>\n",
       "      <td>22601</td>\n",
       "      <td>1</td>\n",
       "      <td>158</td>\n",
       "      <td>126.0</td>\n",
       "      <td>140</td>\n",
       "      <td>90</td>\n",
       "      <td>2</td>\n",
       "      <td>2</td>\n",
       "      <td>0</td>\n",
       "      <td>0</td>\n",
       "      <td>1</td>\n",
       "      <td>1</td>\n",
       "    </tr>\n",
       "    <tr>\n",
       "      <th>69997</th>\n",
       "      <td>99996</td>\n",
       "      <td>19066</td>\n",
       "      <td>2</td>\n",
       "      <td>183</td>\n",
       "      <td>105.0</td>\n",
       "      <td>180</td>\n",
       "      <td>90</td>\n",
       "      <td>3</td>\n",
       "      <td>1</td>\n",
       "      <td>0</td>\n",
       "      <td>1</td>\n",
       "      <td>0</td>\n",
       "      <td>1</td>\n",
       "    </tr>\n",
       "    <tr>\n",
       "      <th>69998</th>\n",
       "      <td>99998</td>\n",
       "      <td>22431</td>\n",
       "      <td>1</td>\n",
       "      <td>163</td>\n",
       "      <td>72.0</td>\n",
       "      <td>135</td>\n",
       "      <td>80</td>\n",
       "      <td>1</td>\n",
       "      <td>2</td>\n",
       "      <td>0</td>\n",
       "      <td>0</td>\n",
       "      <td>0</td>\n",
       "      <td>1</td>\n",
       "    </tr>\n",
       "    <tr>\n",
       "      <th>69999</th>\n",
       "      <td>99999</td>\n",
       "      <td>20540</td>\n",
       "      <td>1</td>\n",
       "      <td>170</td>\n",
       "      <td>72.0</td>\n",
       "      <td>120</td>\n",
       "      <td>80</td>\n",
       "      <td>2</td>\n",
       "      <td>1</td>\n",
       "      <td>0</td>\n",
       "      <td>0</td>\n",
       "      <td>1</td>\n",
       "      <td>0</td>\n",
       "    </tr>\n",
       "  </tbody>\n",
       "</table>\n",
       "<p>70000 rows × 13 columns</p>\n",
       "</div>"
      ],
      "text/plain": [
       "          id    age  gender  height  weight  ap_hi  ap_lo  cholesterol  gluc  \\\n",
       "0          0  18393       2     168    62.0    110     80            1     1   \n",
       "1          1  20228       1     156    85.0    140     90            3     1   \n",
       "2          2  18857       1     165    64.0    130     70            3     1   \n",
       "3          3  17623       2     169    82.0    150    100            1     1   \n",
       "4          4  17474       1     156    56.0    100     60            1     1   \n",
       "...      ...    ...     ...     ...     ...    ...    ...          ...   ...   \n",
       "69995  99993  19240       2     168    76.0    120     80            1     1   \n",
       "69996  99995  22601       1     158   126.0    140     90            2     2   \n",
       "69997  99996  19066       2     183   105.0    180     90            3     1   \n",
       "69998  99998  22431       1     163    72.0    135     80            1     2   \n",
       "69999  99999  20540       1     170    72.0    120     80            2     1   \n",
       "\n",
       "       smoke  alco  active  cardio  \n",
       "0          0     0       1       0  \n",
       "1          0     0       1       1  \n",
       "2          0     0       0       1  \n",
       "3          0     0       1       1  \n",
       "4          0     0       0       0  \n",
       "...      ...   ...     ...     ...  \n",
       "69995      1     0       1       0  \n",
       "69996      0     0       1       1  \n",
       "69997      0     1       0       1  \n",
       "69998      0     0       0       1  \n",
       "69999      0     0       1       0  \n",
       "\n",
       "[70000 rows x 13 columns]"
      ]
     },
     "execution_count": 209,
     "metadata": {},
     "output_type": "execute_result"
    }
   ],
   "source": [
    "cardio_disease = pd.read_csv(\"cardiovascular.csv\")\n",
    "cardio_disease "
   ]
  },
  {
   "cell_type": "code",
   "execution_count": 210,
   "id": "e31e6827",
   "metadata": {},
   "outputs": [
    {
     "name": "stdout",
     "output_type": "stream",
     "text": [
      "<class 'pandas.core.frame.DataFrame'>\n",
      "RangeIndex: 70000 entries, 0 to 69999\n",
      "Data columns (total 13 columns):\n",
      " #   Column       Non-Null Count  Dtype  \n",
      "---  ------       --------------  -----  \n",
      " 0   id           70000 non-null  int64  \n",
      " 1   age          70000 non-null  int64  \n",
      " 2   gender       70000 non-null  int64  \n",
      " 3   height       70000 non-null  int64  \n",
      " 4   weight       70000 non-null  float64\n",
      " 5   ap_hi        70000 non-null  int64  \n",
      " 6   ap_lo        70000 non-null  int64  \n",
      " 7   cholesterol  70000 non-null  int64  \n",
      " 8   gluc         70000 non-null  int64  \n",
      " 9   smoke        70000 non-null  int64  \n",
      " 10  alco         70000 non-null  int64  \n",
      " 11  active       70000 non-null  int64  \n",
      " 12  cardio       70000 non-null  int64  \n",
      "dtypes: float64(1), int64(12)\n",
      "memory usage: 6.9 MB\n"
     ]
    }
   ],
   "source": [
    "cardio_disease.info()"
   ]
  },
  {
   "cell_type": "markdown",
   "id": "5ce3a4d8",
   "metadata": {},
   "source": [
    "Berdasarkan informasi dataset tersebut dapat diketahui bahwa:\n",
    "- jumlah data : 70000\n",
    "- jumlah label : 13 kolom\n",
    "- Label target : cardio (1 = memiliki penyakit cardiovascular, 0 = tidak)\n"
   ]
  },
  {
   "cell_type": "code",
   "execution_count": 211,
   "id": "9f1044fe",
   "metadata": {},
   "outputs": [
    {
     "data": {
      "text/html": [
       "<div>\n",
       "<style scoped>\n",
       "    .dataframe tbody tr th:only-of-type {\n",
       "        vertical-align: middle;\n",
       "    }\n",
       "\n",
       "    .dataframe tbody tr th {\n",
       "        vertical-align: top;\n",
       "    }\n",
       "\n",
       "    .dataframe thead th {\n",
       "        text-align: right;\n",
       "    }\n",
       "</style>\n",
       "<table border=\"1\" class=\"dataframe\">\n",
       "  <thead>\n",
       "    <tr style=\"text-align: right;\">\n",
       "      <th></th>\n",
       "      <th>id</th>\n",
       "      <th>age</th>\n",
       "      <th>gender</th>\n",
       "      <th>height</th>\n",
       "      <th>weight</th>\n",
       "      <th>ap_hi</th>\n",
       "      <th>ap_lo</th>\n",
       "      <th>cholesterol</th>\n",
       "      <th>gluc</th>\n",
       "      <th>smoke</th>\n",
       "      <th>alco</th>\n",
       "      <th>active</th>\n",
       "      <th>cardio</th>\n",
       "    </tr>\n",
       "  </thead>\n",
       "  <tbody>\n",
       "    <tr>\n",
       "      <th>count</th>\n",
       "      <td>70000.000000</td>\n",
       "      <td>70000.000000</td>\n",
       "      <td>70000.000000</td>\n",
       "      <td>70000.000000</td>\n",
       "      <td>70000.000000</td>\n",
       "      <td>70000.000000</td>\n",
       "      <td>70000.000000</td>\n",
       "      <td>70000.000000</td>\n",
       "      <td>70000.000000</td>\n",
       "      <td>70000.000000</td>\n",
       "      <td>70000.000000</td>\n",
       "      <td>70000.000000</td>\n",
       "      <td>70000.000000</td>\n",
       "    </tr>\n",
       "    <tr>\n",
       "      <th>mean</th>\n",
       "      <td>49972.419900</td>\n",
       "      <td>19468.865814</td>\n",
       "      <td>1.349571</td>\n",
       "      <td>164.359229</td>\n",
       "      <td>74.205690</td>\n",
       "      <td>128.817286</td>\n",
       "      <td>96.630414</td>\n",
       "      <td>1.366871</td>\n",
       "      <td>1.226457</td>\n",
       "      <td>0.088129</td>\n",
       "      <td>0.053771</td>\n",
       "      <td>0.803729</td>\n",
       "      <td>0.499700</td>\n",
       "    </tr>\n",
       "    <tr>\n",
       "      <th>std</th>\n",
       "      <td>28851.302323</td>\n",
       "      <td>2467.251667</td>\n",
       "      <td>0.476838</td>\n",
       "      <td>8.210126</td>\n",
       "      <td>14.395757</td>\n",
       "      <td>154.011419</td>\n",
       "      <td>188.472530</td>\n",
       "      <td>0.680250</td>\n",
       "      <td>0.572270</td>\n",
       "      <td>0.283484</td>\n",
       "      <td>0.225568</td>\n",
       "      <td>0.397179</td>\n",
       "      <td>0.500003</td>\n",
       "    </tr>\n",
       "    <tr>\n",
       "      <th>min</th>\n",
       "      <td>0.000000</td>\n",
       "      <td>10798.000000</td>\n",
       "      <td>1.000000</td>\n",
       "      <td>55.000000</td>\n",
       "      <td>10.000000</td>\n",
       "      <td>-150.000000</td>\n",
       "      <td>-70.000000</td>\n",
       "      <td>1.000000</td>\n",
       "      <td>1.000000</td>\n",
       "      <td>0.000000</td>\n",
       "      <td>0.000000</td>\n",
       "      <td>0.000000</td>\n",
       "      <td>0.000000</td>\n",
       "    </tr>\n",
       "    <tr>\n",
       "      <th>25%</th>\n",
       "      <td>25006.750000</td>\n",
       "      <td>17664.000000</td>\n",
       "      <td>1.000000</td>\n",
       "      <td>159.000000</td>\n",
       "      <td>65.000000</td>\n",
       "      <td>120.000000</td>\n",
       "      <td>80.000000</td>\n",
       "      <td>1.000000</td>\n",
       "      <td>1.000000</td>\n",
       "      <td>0.000000</td>\n",
       "      <td>0.000000</td>\n",
       "      <td>1.000000</td>\n",
       "      <td>0.000000</td>\n",
       "    </tr>\n",
       "    <tr>\n",
       "      <th>50%</th>\n",
       "      <td>50001.500000</td>\n",
       "      <td>19703.000000</td>\n",
       "      <td>1.000000</td>\n",
       "      <td>165.000000</td>\n",
       "      <td>72.000000</td>\n",
       "      <td>120.000000</td>\n",
       "      <td>80.000000</td>\n",
       "      <td>1.000000</td>\n",
       "      <td>1.000000</td>\n",
       "      <td>0.000000</td>\n",
       "      <td>0.000000</td>\n",
       "      <td>1.000000</td>\n",
       "      <td>0.000000</td>\n",
       "    </tr>\n",
       "    <tr>\n",
       "      <th>75%</th>\n",
       "      <td>74889.250000</td>\n",
       "      <td>21327.000000</td>\n",
       "      <td>2.000000</td>\n",
       "      <td>170.000000</td>\n",
       "      <td>82.000000</td>\n",
       "      <td>140.000000</td>\n",
       "      <td>90.000000</td>\n",
       "      <td>2.000000</td>\n",
       "      <td>1.000000</td>\n",
       "      <td>0.000000</td>\n",
       "      <td>0.000000</td>\n",
       "      <td>1.000000</td>\n",
       "      <td>1.000000</td>\n",
       "    </tr>\n",
       "    <tr>\n",
       "      <th>max</th>\n",
       "      <td>99999.000000</td>\n",
       "      <td>23713.000000</td>\n",
       "      <td>2.000000</td>\n",
       "      <td>250.000000</td>\n",
       "      <td>200.000000</td>\n",
       "      <td>16020.000000</td>\n",
       "      <td>11000.000000</td>\n",
       "      <td>3.000000</td>\n",
       "      <td>3.000000</td>\n",
       "      <td>1.000000</td>\n",
       "      <td>1.000000</td>\n",
       "      <td>1.000000</td>\n",
       "      <td>1.000000</td>\n",
       "    </tr>\n",
       "  </tbody>\n",
       "</table>\n",
       "</div>"
      ],
      "text/plain": [
       "                 id           age        gender        height        weight  \\\n",
       "count  70000.000000  70000.000000  70000.000000  70000.000000  70000.000000   \n",
       "mean   49972.419900  19468.865814      1.349571    164.359229     74.205690   \n",
       "std    28851.302323   2467.251667      0.476838      8.210126     14.395757   \n",
       "min        0.000000  10798.000000      1.000000     55.000000     10.000000   \n",
       "25%    25006.750000  17664.000000      1.000000    159.000000     65.000000   \n",
       "50%    50001.500000  19703.000000      1.000000    165.000000     72.000000   \n",
       "75%    74889.250000  21327.000000      2.000000    170.000000     82.000000   \n",
       "max    99999.000000  23713.000000      2.000000    250.000000    200.000000   \n",
       "\n",
       "              ap_hi         ap_lo   cholesterol          gluc         smoke  \\\n",
       "count  70000.000000  70000.000000  70000.000000  70000.000000  70000.000000   \n",
       "mean     128.817286     96.630414      1.366871      1.226457      0.088129   \n",
       "std      154.011419    188.472530      0.680250      0.572270      0.283484   \n",
       "min     -150.000000    -70.000000      1.000000      1.000000      0.000000   \n",
       "25%      120.000000     80.000000      1.000000      1.000000      0.000000   \n",
       "50%      120.000000     80.000000      1.000000      1.000000      0.000000   \n",
       "75%      140.000000     90.000000      2.000000      1.000000      0.000000   \n",
       "max    16020.000000  11000.000000      3.000000      3.000000      1.000000   \n",
       "\n",
       "               alco        active        cardio  \n",
       "count  70000.000000  70000.000000  70000.000000  \n",
       "mean       0.053771      0.803729      0.499700  \n",
       "std        0.225568      0.397179      0.500003  \n",
       "min        0.000000      0.000000      0.000000  \n",
       "25%        0.000000      1.000000      0.000000  \n",
       "50%        0.000000      1.000000      0.000000  \n",
       "75%        0.000000      1.000000      1.000000  \n",
       "max        1.000000      1.000000      1.000000  "
      ]
     },
     "execution_count": 211,
     "metadata": {},
     "output_type": "execute_result"
    }
   ],
   "source": [
    "cardio_disease.describe()"
   ]
  },
  {
   "cell_type": "code",
   "execution_count": 212,
   "id": "9cfab0bc",
   "metadata": {},
   "outputs": [],
   "source": [
    "cardio_disease['age'] = (cardio_disease['age'] / 365).astype(int)\n",
    "\n",
    "# Tambahin BMI\n",
    "cardio_disease['BMI'] = cardio_disease['weight'] / ((cardio_disease['height'] / 100) ** 2)"
   ]
  },
  {
   "cell_type": "code",
   "execution_count": 213,
   "id": "35bee253",
   "metadata": {},
   "outputs": [
    {
     "data": {
      "text/html": [
       "<div>\n",
       "<style scoped>\n",
       "    .dataframe tbody tr th:only-of-type {\n",
       "        vertical-align: middle;\n",
       "    }\n",
       "\n",
       "    .dataframe tbody tr th {\n",
       "        vertical-align: top;\n",
       "    }\n",
       "\n",
       "    .dataframe thead th {\n",
       "        text-align: right;\n",
       "    }\n",
       "</style>\n",
       "<table border=\"1\" class=\"dataframe\">\n",
       "  <thead>\n",
       "    <tr style=\"text-align: right;\">\n",
       "      <th></th>\n",
       "      <th>id</th>\n",
       "      <th>age</th>\n",
       "      <th>gender</th>\n",
       "      <th>height</th>\n",
       "      <th>weight</th>\n",
       "      <th>ap_hi</th>\n",
       "      <th>ap_lo</th>\n",
       "      <th>cholesterol</th>\n",
       "      <th>gluc</th>\n",
       "      <th>smoke</th>\n",
       "      <th>alco</th>\n",
       "      <th>active</th>\n",
       "      <th>cardio</th>\n",
       "      <th>BMI</th>\n",
       "    </tr>\n",
       "  </thead>\n",
       "  <tbody>\n",
       "    <tr>\n",
       "      <th>0</th>\n",
       "      <td>0</td>\n",
       "      <td>50</td>\n",
       "      <td>2</td>\n",
       "      <td>168</td>\n",
       "      <td>62.0</td>\n",
       "      <td>110</td>\n",
       "      <td>80</td>\n",
       "      <td>1</td>\n",
       "      <td>1</td>\n",
       "      <td>0</td>\n",
       "      <td>0</td>\n",
       "      <td>1</td>\n",
       "      <td>0</td>\n",
       "      <td>21.967120</td>\n",
       "    </tr>\n",
       "    <tr>\n",
       "      <th>1</th>\n",
       "      <td>1</td>\n",
       "      <td>55</td>\n",
       "      <td>1</td>\n",
       "      <td>156</td>\n",
       "      <td>85.0</td>\n",
       "      <td>140</td>\n",
       "      <td>90</td>\n",
       "      <td>3</td>\n",
       "      <td>1</td>\n",
       "      <td>0</td>\n",
       "      <td>0</td>\n",
       "      <td>1</td>\n",
       "      <td>1</td>\n",
       "      <td>34.927679</td>\n",
       "    </tr>\n",
       "    <tr>\n",
       "      <th>2</th>\n",
       "      <td>2</td>\n",
       "      <td>51</td>\n",
       "      <td>1</td>\n",
       "      <td>165</td>\n",
       "      <td>64.0</td>\n",
       "      <td>130</td>\n",
       "      <td>70</td>\n",
       "      <td>3</td>\n",
       "      <td>1</td>\n",
       "      <td>0</td>\n",
       "      <td>0</td>\n",
       "      <td>0</td>\n",
       "      <td>1</td>\n",
       "      <td>23.507805</td>\n",
       "    </tr>\n",
       "    <tr>\n",
       "      <th>3</th>\n",
       "      <td>3</td>\n",
       "      <td>48</td>\n",
       "      <td>2</td>\n",
       "      <td>169</td>\n",
       "      <td>82.0</td>\n",
       "      <td>150</td>\n",
       "      <td>100</td>\n",
       "      <td>1</td>\n",
       "      <td>1</td>\n",
       "      <td>0</td>\n",
       "      <td>0</td>\n",
       "      <td>1</td>\n",
       "      <td>1</td>\n",
       "      <td>28.710479</td>\n",
       "    </tr>\n",
       "    <tr>\n",
       "      <th>4</th>\n",
       "      <td>4</td>\n",
       "      <td>47</td>\n",
       "      <td>1</td>\n",
       "      <td>156</td>\n",
       "      <td>56.0</td>\n",
       "      <td>100</td>\n",
       "      <td>60</td>\n",
       "      <td>1</td>\n",
       "      <td>1</td>\n",
       "      <td>0</td>\n",
       "      <td>0</td>\n",
       "      <td>0</td>\n",
       "      <td>0</td>\n",
       "      <td>23.011177</td>\n",
       "    </tr>\n",
       "    <tr>\n",
       "      <th>...</th>\n",
       "      <td>...</td>\n",
       "      <td>...</td>\n",
       "      <td>...</td>\n",
       "      <td>...</td>\n",
       "      <td>...</td>\n",
       "      <td>...</td>\n",
       "      <td>...</td>\n",
       "      <td>...</td>\n",
       "      <td>...</td>\n",
       "      <td>...</td>\n",
       "      <td>...</td>\n",
       "      <td>...</td>\n",
       "      <td>...</td>\n",
       "      <td>...</td>\n",
       "    </tr>\n",
       "    <tr>\n",
       "      <th>69995</th>\n",
       "      <td>99993</td>\n",
       "      <td>52</td>\n",
       "      <td>2</td>\n",
       "      <td>168</td>\n",
       "      <td>76.0</td>\n",
       "      <td>120</td>\n",
       "      <td>80</td>\n",
       "      <td>1</td>\n",
       "      <td>1</td>\n",
       "      <td>1</td>\n",
       "      <td>0</td>\n",
       "      <td>1</td>\n",
       "      <td>0</td>\n",
       "      <td>26.927438</td>\n",
       "    </tr>\n",
       "    <tr>\n",
       "      <th>69996</th>\n",
       "      <td>99995</td>\n",
       "      <td>61</td>\n",
       "      <td>1</td>\n",
       "      <td>158</td>\n",
       "      <td>126.0</td>\n",
       "      <td>140</td>\n",
       "      <td>90</td>\n",
       "      <td>2</td>\n",
       "      <td>2</td>\n",
       "      <td>0</td>\n",
       "      <td>0</td>\n",
       "      <td>1</td>\n",
       "      <td>1</td>\n",
       "      <td>50.472681</td>\n",
       "    </tr>\n",
       "    <tr>\n",
       "      <th>69997</th>\n",
       "      <td>99996</td>\n",
       "      <td>52</td>\n",
       "      <td>2</td>\n",
       "      <td>183</td>\n",
       "      <td>105.0</td>\n",
       "      <td>180</td>\n",
       "      <td>90</td>\n",
       "      <td>3</td>\n",
       "      <td>1</td>\n",
       "      <td>0</td>\n",
       "      <td>1</td>\n",
       "      <td>0</td>\n",
       "      <td>1</td>\n",
       "      <td>31.353579</td>\n",
       "    </tr>\n",
       "    <tr>\n",
       "      <th>69998</th>\n",
       "      <td>99998</td>\n",
       "      <td>61</td>\n",
       "      <td>1</td>\n",
       "      <td>163</td>\n",
       "      <td>72.0</td>\n",
       "      <td>135</td>\n",
       "      <td>80</td>\n",
       "      <td>1</td>\n",
       "      <td>2</td>\n",
       "      <td>0</td>\n",
       "      <td>0</td>\n",
       "      <td>0</td>\n",
       "      <td>1</td>\n",
       "      <td>27.099251</td>\n",
       "    </tr>\n",
       "    <tr>\n",
       "      <th>69999</th>\n",
       "      <td>99999</td>\n",
       "      <td>56</td>\n",
       "      <td>1</td>\n",
       "      <td>170</td>\n",
       "      <td>72.0</td>\n",
       "      <td>120</td>\n",
       "      <td>80</td>\n",
       "      <td>2</td>\n",
       "      <td>1</td>\n",
       "      <td>0</td>\n",
       "      <td>0</td>\n",
       "      <td>1</td>\n",
       "      <td>0</td>\n",
       "      <td>24.913495</td>\n",
       "    </tr>\n",
       "  </tbody>\n",
       "</table>\n",
       "<p>70000 rows × 14 columns</p>\n",
       "</div>"
      ],
      "text/plain": [
       "          id  age  gender  height  weight  ap_hi  ap_lo  cholesterol  gluc  \\\n",
       "0          0   50       2     168    62.0    110     80            1     1   \n",
       "1          1   55       1     156    85.0    140     90            3     1   \n",
       "2          2   51       1     165    64.0    130     70            3     1   \n",
       "3          3   48       2     169    82.0    150    100            1     1   \n",
       "4          4   47       1     156    56.0    100     60            1     1   \n",
       "...      ...  ...     ...     ...     ...    ...    ...          ...   ...   \n",
       "69995  99993   52       2     168    76.0    120     80            1     1   \n",
       "69996  99995   61       1     158   126.0    140     90            2     2   \n",
       "69997  99996   52       2     183   105.0    180     90            3     1   \n",
       "69998  99998   61       1     163    72.0    135     80            1     2   \n",
       "69999  99999   56       1     170    72.0    120     80            2     1   \n",
       "\n",
       "       smoke  alco  active  cardio        BMI  \n",
       "0          0     0       1       0  21.967120  \n",
       "1          0     0       1       1  34.927679  \n",
       "2          0     0       0       1  23.507805  \n",
       "3          0     0       1       1  28.710479  \n",
       "4          0     0       0       0  23.011177  \n",
       "...      ...   ...     ...     ...        ...  \n",
       "69995      1     0       1       0  26.927438  \n",
       "69996      0     0       1       1  50.472681  \n",
       "69997      0     1       0       1  31.353579  \n",
       "69998      0     0       0       1  27.099251  \n",
       "69999      0     0       1       0  24.913495  \n",
       "\n",
       "[70000 rows x 14 columns]"
      ]
     },
     "execution_count": 213,
     "metadata": {},
     "output_type": "execute_result"
    }
   ],
   "source": [
    "cardio_disease"
   ]
  },
  {
   "cell_type": "code",
   "execution_count": 214,
   "id": "999dc103",
   "metadata": {},
   "outputs": [
    {
     "data": {
      "text/plain": [
       "(37616, 14)"
      ]
     },
     "execution_count": 214,
     "metadata": {},
     "output_type": "execute_result"
    }
   ],
   "source": [
    "# Ambil hanya kolom numerikal\n",
    "numeric_cols = cardio_disease.select_dtypes(include='number').columns\n",
    "# Hitung Q1, Q3, dan IQR hanya untuk kolom numerikal\n",
    "Q1 = cardio_disease[numeric_cols].quantile(0.25)\n",
    "Q3 = cardio_disease[numeric_cols].quantile(0.75)\n",
    "IQR = Q3 - Q1\n",
    "# Buat filter untuk menghapus baris yang mengandung outlier di kolom numerikal\n",
    "filter_outliers = ~((cardio_disease[numeric_cols] < (Q1 - 1.5 * IQR)) |\n",
    "                    (cardio_disease[numeric_cols] > (Q3 + 1.5 * IQR))).any(axis=1)\n",
    "# Terapkan filter ke dataset asli (termasuk kolom non-numerikal)\n",
    "cardio_disease = cardio_disease[filter_outliers]\n",
    "# Cek ukuran dataset setelah outlier dihapus\n",
    "cardio_disease.shape"
   ]
  },
  {
   "cell_type": "markdown",
   "id": "92563e83",
   "metadata": {},
   "source": [
    "## 3. Exploratory Data Analysis"
   ]
  },
  {
   "cell_type": "markdown",
   "id": "d8492486",
   "metadata": {},
   "source": [
    "### Cek Distribusi Target"
   ]
  },
  {
   "cell_type": "code",
   "execution_count": 215,
   "metadata": {},
   "outputs": [
    {
     "name": "stderr",
     "output_type": "stream",
     "text": [
      "C:\\Users\\User\\AppData\\Local\\Temp\\ipykernel_14288\\2497484955.py:4: FutureWarning: \n",
      "\n",
      "Passing `palette` without assigning `hue` is deprecated and will be removed in v0.14.0. Assign the `x` variable to `hue` and set `legend=False` for the same effect.\n",
      "\n",
      "  sns.countplot(x='cardio', data=cardio_disease, palette='Set1')\n"
     ]
    },
    {
     "data": {
      "image/png": "[encoded data removed]",
      "text/plain": [
       "<Figure size 1000x600 with 1 Axes>"
      ]
     },
     "metadata": {},
     "output_type": "display_data"
    }
   ],
   "source": [
    "sns.set_theme(style=\"whitegrid\")\n",
    "plt.rcParams['figure.figsize'] = (10, 6)\n",
    "\n",
    "sns.countplot(x='cardio', data=cardio_disease, palette='Set1')\n",
    "plt.title('Distribusi Target: cardio')\n",
    "plt.xlabel('Heart Disease (0 = No, 1 = Yes)')\n",
    "plt.ylabel('Jumlah')\n",
    "plt.show()"
   ]
  },
  {
   "cell_type": "markdown",
   "id": "3f58eb70",
   "metadata": {},
   "source": [
    "Berdasarkan hasil visualisasi distribusi target cardiovascular:\n",
    "\n",
    "- 0 tidak memiliki penyakit jantung ~ 35000 sampel.\n",
    "- 1 terdapat penyakit jantung ~ 35000 sampel.\n",
    "- Keseimbangan pada kelas ini sangat baik karena tidak memerlukan penyeimbang data seperti oversampling atau undersampling"
   ]
  },
  {
   "cell_type": "code",
   "execution_count": 240,
   "metadata": {},
   "outputs": [
    {
     "data": {
      "image/png": "[encoded data removed]",
      "text/plain": [
       "<Figure size 1000x600 with 1 Axes>"
      ]
     },
     "metadata": {},
     "output_type": "display_data"
    }
   ],
   "source": [
    "sns.histplot(data=cardio_disease, x='age', hue='cardio', multiple='stack', bins=30, palette='Set1')\n",
    "plt.title('Distribusi Usia berdasarkan Cardiovascular')\n",
    "plt.xlabel('Age')\n",
    "plt.ylabel('Jumlah')\n",
    "plt.show()"
   ]
  },
  {
   "cell_type": "markdown",
   "id": "249a118e",
   "metadata": {},
   "source": [
    "Berdasarkan hasil visualisasi :\n",
    "\n",
    "- Kasus penyakit jantung sering terjadi umur ~40 tahun sapai ~65 tahun\n",
    "- Kasus penyakit jantung paling banyak terjadi pada usia 50 - 65 tahun"
   ]
  },
  {
   "cell_type": "code",
   "execution_count": 241,
   "id": "2b58e7cc",
   "metadata": {},
   "outputs": [
    {
     "data": {
      "image/png": "[encoded data removed]",
      "text/plain": [
       "<Figure size 1000x600 with 1 Axes>"
      ]
     },
     "metadata": {},
     "output_type": "display_data"
    }
   ],
   "source": [
    "sns.countplot(x='gender', hue='cardio', data=cardio_disease, palette='Set1')\n",
    "plt.title('Distribusi kelamin terhadap cardiovascular')\n",
    "plt.xlabel('kelamin')\n",
    "plt.ylabel('Jumlah')\n",
    "plt.show()"
   ]
  },
  {
   "cell_type": "markdown",
   "id": "c5373fb4",
   "metadata": {},
   "source": [
    "Berdasarkan hasil visualisasi: \n",
    "\n",
    "1 = perempuan, 2 = laki-laki\n",
    "\n",
    "- perempuan mendominasi penyakik cardiovascular\n",
    "- laki-laki terlihat cukup banyak tetapi tidak sebanyak perempuan"
   ]
  },
  {
   "cell_type": "markdown",
   "id": "a074b0c2",
   "metadata": {},
   "source": [
    "### Korelasi antar fitur numerik"
   ]
  },
  {
   "cell_type": "code",
   "execution_count": 218,
   "id": "0310166f",
   "metadata": {},
   "outputs": [
    {
     "data": {
      "image/png": "[encoded data removed]",
      "text/plain": [
       "<Figure size 1000x600 with 2 Axes>"
      ]
     },
     "metadata": {},
     "output_type": "display_data"
    }
   ],
   "source": [
    "numeric_features = cardio_disease.select_dtypes(include=['int64', 'float64']).columns\n",
    "sns.heatmap(cardio_disease[numeric_features].corr(), annot=True, cmap='coolwarm', fmt='.2f')\n",
    "plt.title('Heatmap Korelasi antar Fitur Numerik')\n",
    "plt.show()"
   ]
  },
  {
   "cell_type": "markdown",
   "id": "37e4e528",
   "metadata": {},
   "source": [
    "Berdasarkan heatmap korelasi antar fitur numerik, dapat disimpulkan bahwa beberapa fitur menunjukkan hubungan yang cukup signifikan satu sama lain. \n",
    "\n",
    "Terlihat bahwa BMI memiliki korelasi tinggi terhadap weight (0.84), yang wajar karena BMI merupakan fungsi dari berat dan tinggi badan. Korelasi positif juga terlihat antara ap_hi (tekanan darah sistolik) dan cardio (0.45), serta cholesterol dan cardio (0.22), yang mengindikasikan bahwa tekanan darah dan kadar kolesterol cenderung meningkat pada pasien dengan penyakit cardiovascular. Sementara itu, fitur seperti smoke, alco, dan active menunjukkan korelasi rendah terhadap variabel target cardio, yang bisa jadi tidak terlalu berpengaruh dalam model prediksi. Korelasi yang rendah antar sebagian besar fitur juga menunjukkan rendahnya multikolinearitas, yang baik untuk kestabilan model pembelajaran mesin."
   ]
  },
  {
   "cell_type": "markdown",
   "id": "b51fedf2",
   "metadata": {},
   "source": [
    "## 4. Data Preparation"
   ]
  },
  {
   "cell_type": "markdown",
   "id": "b4e366d7",
   "metadata": {},
   "source": [
    "### Mengecek Missing Value"
   ]
  },
  {
   "cell_type": "code",
   "execution_count": 219,
   "id": "c7375d2a",
   "metadata": {},
   "outputs": [
    {
     "name": "stdout",
     "output_type": "stream",
     "text": [
      "             Jumlah Data Hilang Persentase Data Hilang\n",
      "id                            0                  0.00%\n",
      "age                           0                  0.00%\n",
      "gender                        0                  0.00%\n",
      "height                        0                  0.00%\n",
      "weight                        0                  0.00%\n",
      "ap_hi                         0                  0.00%\n",
      "ap_lo                         0                  0.00%\n",
      "cholesterol                   0                  0.00%\n",
      "gluc                          0                  0.00%\n",
      "smoke                         0                  0.00%\n",
      "alco                          0                  0.00%\n",
      "active                        0                  0.00%\n",
      "cardio                        0                  0.00%\n",
      "BMI                           0                  0.00%\n"
     ]
    }
   ],
   "source": [
    "total_rows = cardio_disease.shape[0]\n",
    "missing_data = cardio_disease.isnull().sum()\n",
    "percent_missing = (missing_data / total_rows) * 100 \n",
    "\n",
    "# Membuat DataFrame baru untuk hasil\n",
    "missing_values_df = pd.DataFrame({\n",
    "    'Jumlah Data Hilang': missing_data,\n",
    "    'Persentase Data Hilang': percent_missing.map('{:.2f}%'.format)\n",
    "})\n",
    "\n",
    "# Menampilkan tabel\n",
    "print(missing_values_df)"
   ]
  },
  {
   "cell_type": "markdown",
   "id": "9201ca18",
   "metadata": {},
   "source": [
    "Berdasarkan hasil pengecekan, tidak ditemukan nilai yang hilang (missing values) dalam dataset. Oleh karena itu, tidak diperlukan langkah tambahan untuk imputasi atau penghapusan data. Dataset siap digunakan untuk tahap analisis atau pemodelan lebih lanjut."
   ]
  },
  {
   "cell_type": "code",
   "execution_count": 220,
   "id": "30c51345",
   "metadata": {},
   "outputs": [
    {
     "name": "stdout",
     "output_type": "stream",
     "text": [
      "Jumlah baris sebelum: 37616\n",
      "Jumlah duplikat: 0\n",
      "Jumlah baris setelah menghapus duplikat: 37616\n"
     ]
    }
   ],
   "source": [
    "print(\"Jumlah baris sebelum:\", cardio_disease.shape[0])\n",
    "print(\"Jumlah duplikat:\", cardio_disease.duplicated().sum())\n",
    "cardio_disease = cardio_disease.drop_duplicates()\n",
    "print(\"Jumlah baris setelah menghapus duplikat:\", cardio_disease.shape[0])"
   ]
  },
  {
   "cell_type": "markdown",
   "id": "e24ffe5e",
   "metadata": {},
   "source": [
    "Pemeriksaan data menunjukkan bahwa tidak terdapat baris duplikat dalam dataset. Ini menunjukkan bahwa data sudah bersih dan siap digunakan untuk tahap analisis atau pemodelan tanpa perlu pembersihan lebih lanjut terkait duplikasi."
   ]
  },
  {
   "cell_type": "code",
   "execution_count": 221,
   "id": "c842aeba",
   "metadata": {},
   "outputs": [],
   "source": [
    "cardio_disease.drop(['id', 'active', 'smoke', 'alco'], axis=1, inplace=True)"
   ]
  },
  {
   "cell_type": "code",
   "execution_count": 222,
   "id": "10f80f88",
   "metadata": {},
   "outputs": [
    {
     "data": {
      "text/html": [
       "<div>\n",
       "<style scoped>\n",
       "    .dataframe tbody tr th:only-of-type {\n",
       "        vertical-align: middle;\n",
       "    }\n",
       "\n",
       "    .dataframe tbody tr th {\n",
       "        vertical-align: top;\n",
       "    }\n",
       "\n",
       "    .dataframe thead th {\n",
       "        text-align: right;\n",
       "    }\n",
       "</style>\n",
       "<table border=\"1\" class=\"dataframe\">\n",
       "  <thead>\n",
       "    <tr style=\"text-align: right;\">\n",
       "      <th></th>\n",
       "      <th>age</th>\n",
       "      <th>gender</th>\n",
       "      <th>height</th>\n",
       "      <th>weight</th>\n",
       "      <th>ap_hi</th>\n",
       "      <th>ap_lo</th>\n",
       "      <th>cholesterol</th>\n",
       "      <th>gluc</th>\n",
       "      <th>cardio</th>\n",
       "      <th>BMI</th>\n",
       "    </tr>\n",
       "  </thead>\n",
       "  <tbody>\n",
       "    <tr>\n",
       "      <th>0</th>\n",
       "      <td>50</td>\n",
       "      <td>2</td>\n",
       "      <td>168</td>\n",
       "      <td>62.0</td>\n",
       "      <td>110</td>\n",
       "      <td>80</td>\n",
       "      <td>1</td>\n",
       "      <td>1</td>\n",
       "      <td>0</td>\n",
       "      <td>21.967120</td>\n",
       "    </tr>\n",
       "    <tr>\n",
       "      <th>1</th>\n",
       "      <td>55</td>\n",
       "      <td>1</td>\n",
       "      <td>156</td>\n",
       "      <td>85.0</td>\n",
       "      <td>140</td>\n",
       "      <td>90</td>\n",
       "      <td>3</td>\n",
       "      <td>1</td>\n",
       "      <td>1</td>\n",
       "      <td>34.927679</td>\n",
       "    </tr>\n",
       "    <tr>\n",
       "      <th>3</th>\n",
       "      <td>48</td>\n",
       "      <td>2</td>\n",
       "      <td>169</td>\n",
       "      <td>82.0</td>\n",
       "      <td>150</td>\n",
       "      <td>100</td>\n",
       "      <td>1</td>\n",
       "      <td>1</td>\n",
       "      <td>1</td>\n",
       "      <td>28.710479</td>\n",
       "    </tr>\n",
       "    <tr>\n",
       "      <th>6</th>\n",
       "      <td>60</td>\n",
       "      <td>1</td>\n",
       "      <td>157</td>\n",
       "      <td>93.0</td>\n",
       "      <td>130</td>\n",
       "      <td>80</td>\n",
       "      <td>3</td>\n",
       "      <td>1</td>\n",
       "      <td>0</td>\n",
       "      <td>37.729725</td>\n",
       "    </tr>\n",
       "    <tr>\n",
       "      <th>8</th>\n",
       "      <td>48</td>\n",
       "      <td>1</td>\n",
       "      <td>158</td>\n",
       "      <td>71.0</td>\n",
       "      <td>110</td>\n",
       "      <td>70</td>\n",
       "      <td>1</td>\n",
       "      <td>1</td>\n",
       "      <td>0</td>\n",
       "      <td>28.440955</td>\n",
       "    </tr>\n",
       "  </tbody>\n",
       "</table>\n",
       "</div>"
      ],
      "text/plain": [
       "   age  gender  height  weight  ap_hi  ap_lo  cholesterol  gluc  cardio  \\\n",
       "0   50       2     168    62.0    110     80            1     1       0   \n",
       "1   55       1     156    85.0    140     90            3     1       1   \n",
       "3   48       2     169    82.0    150    100            1     1       1   \n",
       "6   60       1     157    93.0    130     80            3     1       0   \n",
       "8   48       1     158    71.0    110     70            1     1       0   \n",
       "\n",
       "         BMI  \n",
       "0  21.967120  \n",
       "1  34.927679  \n",
       "3  28.710479  \n",
       "6  37.729725  \n",
       "8  28.440955  "
      ]
     },
     "execution_count": 222,
     "metadata": {},
     "output_type": "execute_result"
    }
   ],
   "source": [
    "cardio_disease.head()"
   ]
  },
  {
   "cell_type": "code",
   "execution_count": null,
   "id": "a31aaa8f",
   "metadata": {},
   "outputs": [
    {
     "data": {
      "text/html": [
       "<div>\n",
       "<style scoped>\n",
       "    .dataframe tbody tr th:only-of-type {\n",
       "        vertical-align: middle;\n",
       "    }\n",
       "\n",
       "    .dataframe tbody tr th {\n",
       "        vertical-align: top;\n",
       "    }\n",
       "\n",
       "    .dataframe thead th {\n",
       "        text-align: right;\n",
       "    }\n",
       "</style>\n",
       "<table border=\"1\" class=\"dataframe\">\n",
       "  <thead>\n",
       "    <tr style=\"text-align: right;\">\n",
       "      <th></th>\n",
       "      <th>age</th>\n",
       "      <th>gender</th>\n",
       "      <th>height</th>\n",
       "      <th>weight</th>\n",
       "      <th>ap_hi</th>\n",
       "      <th>ap_lo</th>\n",
       "      <th>cholesterol</th>\n",
       "      <th>gluc</th>\n",
       "      <th>cardio</th>\n",
       "      <th>BMI</th>\n",
       "    </tr>\n",
       "  </thead>\n",
       "  <tbody>\n",
       "    <tr>\n",
       "      <th>38923</th>\n",
       "      <td>0.038471</td>\n",
       "      <td>1</td>\n",
       "      <td>170</td>\n",
       "      <td>-0.168401</td>\n",
       "      <td>1.022045</td>\n",
       "      <td>1.146256</td>\n",
       "      <td>1</td>\n",
       "      <td>1</td>\n",
       "      <td>1</td>\n",
       "      <td>-0.600119</td>\n",
       "    </tr>\n",
       "    <tr>\n",
       "      <th>47619</th>\n",
       "      <td>-0.406986</td>\n",
       "      <td>1</td>\n",
       "      <td>173</td>\n",
       "      <td>0.257675</td>\n",
       "      <td>-1.110966</td>\n",
       "      <td>-1.496569</td>\n",
       "      <td>1</td>\n",
       "      <td>1</td>\n",
       "      <td>0</td>\n",
       "      <td>-0.403151</td>\n",
       "    </tr>\n",
       "    <tr>\n",
       "      <th>22672</th>\n",
       "      <td>-0.258500</td>\n",
       "      <td>2</td>\n",
       "      <td>173</td>\n",
       "      <td>-0.168401</td>\n",
       "      <td>-0.399962</td>\n",
       "      <td>-0.175157</td>\n",
       "      <td>1</td>\n",
       "      <td>1</td>\n",
       "      <td>0</td>\n",
       "      <td>-0.795890</td>\n",
       "    </tr>\n",
       "    <tr>\n",
       "      <th>2667</th>\n",
       "      <td>0.335443</td>\n",
       "      <td>1</td>\n",
       "      <td>169</td>\n",
       "      <td>0.002029</td>\n",
       "      <td>-1.110966</td>\n",
       "      <td>-0.175157</td>\n",
       "      <td>1</td>\n",
       "      <td>1</td>\n",
       "      <td>1</td>\n",
       "      <td>-0.367913</td>\n",
       "    </tr>\n",
       "    <tr>\n",
       "      <th>5148</th>\n",
       "      <td>1.077872</td>\n",
       "      <td>2</td>\n",
       "      <td>156</td>\n",
       "      <td>-0.253616</td>\n",
       "      <td>0.311042</td>\n",
       "      <td>1.146256</td>\n",
       "      <td>1</td>\n",
       "      <td>1</td>\n",
       "      <td>1</td>\n",
       "      <td>0.371161</td>\n",
       "    </tr>\n",
       "    <tr>\n",
       "      <th>57566</th>\n",
       "      <td>-1.000929</td>\n",
       "      <td>1</td>\n",
       "      <td>171</td>\n",
       "      <td>-0.253616</td>\n",
       "      <td>-0.399962</td>\n",
       "      <td>-0.175157</td>\n",
       "      <td>1</td>\n",
       "      <td>1</td>\n",
       "      <td>1</td>\n",
       "      <td>-0.746917</td>\n",
       "    </tr>\n",
       "    <tr>\n",
       "      <th>60196</th>\n",
       "      <td>-0.406986</td>\n",
       "      <td>1</td>\n",
       "      <td>157</td>\n",
       "      <td>0.342890</td>\n",
       "      <td>2.444053</td>\n",
       "      <td>2.467668</td>\n",
       "      <td>1</td>\n",
       "      <td>1</td>\n",
       "      <td>1</td>\n",
       "      <td>0.954134</td>\n",
       "    </tr>\n",
       "    <tr>\n",
       "      <th>49037</th>\n",
       "      <td>0.483929</td>\n",
       "      <td>1</td>\n",
       "      <td>155</td>\n",
       "      <td>-0.594477</td>\n",
       "      <td>-1.110966</td>\n",
       "      <td>-1.496569</td>\n",
       "      <td>1</td>\n",
       "      <td>1</td>\n",
       "      <td>0</td>\n",
       "      <td>0.066042</td>\n",
       "    </tr>\n",
       "    <tr>\n",
       "      <th>37016</th>\n",
       "      <td>-1.297901</td>\n",
       "      <td>1</td>\n",
       "      <td>161</td>\n",
       "      <td>-1.617058</td>\n",
       "      <td>1.022045</td>\n",
       "      <td>1.146256</td>\n",
       "      <td>1</td>\n",
       "      <td>1</td>\n",
       "      <td>1</td>\n",
       "      <td>-1.487498</td>\n",
       "    </tr>\n",
       "    <tr>\n",
       "      <th>49550</th>\n",
       "      <td>-1.149415</td>\n",
       "      <td>1</td>\n",
       "      <td>165</td>\n",
       "      <td>-0.594477</td>\n",
       "      <td>-0.399962</td>\n",
       "      <td>-0.175157</td>\n",
       "      <td>1</td>\n",
       "      <td>1</td>\n",
       "      <td>0</td>\n",
       "      <td>-0.681538</td>\n",
       "    </tr>\n",
       "  </tbody>\n",
       "</table>\n",
       "</div>"
      ],
      "text/plain": [
       "            age  gender  height    weight     ap_hi     ap_lo  cholesterol  \\\n",
       "38923  0.038471       1     170 -0.168401  1.022045  1.146256            1   \n",
       "47619 -0.406986       1     173  0.257675 -1.110966 -1.496569            1   \n",
       "22672 -0.258500       2     173 -0.168401 -0.399962 -0.175157            1   \n",
       "2667   0.335443       1     169  0.002029 -1.110966 -0.175157            1   \n",
       "5148   1.077872       2     156 -0.253616  0.311042  1.146256            1   \n",
       "57566 -1.000929       1     171 -0.253616 -0.399962 -0.175157            1   \n",
       "60196 -0.406986       1     157  0.342890  2.444053  2.467668            1   \n",
       "49037  0.483929       1     155 -0.594477 -1.110966 -1.496569            1   \n",
       "37016 -1.297901       1     161 -1.617058  1.022045  1.146256            1   \n",
       "49550 -1.149415       1     165 -0.594477 -0.399962 -0.175157            1   \n",
       "\n",
       "       gluc  cardio       BMI  \n",
       "38923     1       1 -0.600119  \n",
       "47619     1       0 -0.403151  \n",
       "22672     1       0 -0.795890  \n",
       "2667      1       1 -0.367913  \n",
       "5148      1       1  0.371161  \n",
       "57566     1       1 -0.746917  \n",
       "60196     1       1  0.954134  \n",
       "49037     1       0  0.066042  \n",
       "37016     1       1 -1.487498  \n",
       "49550     1       0 -0.681538  "
      ]
     },
     "execution_count": 242,
     "metadata": {},
     "output_type": "execute_result"
    }
   ],
   "source": [
    "scaler = StandardScaler()\n",
    "num_cols = ['age', 'weight', 'ap_hi' , 'ap_lo']\n",
    "cardio_disease[num_cols] = scaler.fit_transform(cardio_disease[num_cols])\n",
    "\n",
    "cardio_disease.sample(10)"
   ]
  },
  {
   "cell_type": "markdown",
   "id": "0b3951d6",
   "metadata": {},
   "source": [
    "Tujuan scaling ini adalah untuk memastikan semua fitur memiliki skala yang seragam sehingga model machine learning dapat belajar secara optimal dan tidak bias terhadap fitur tertentu yang memiliki rentang nilai besar."
   ]
  },
  {
   "cell_type": "markdown",
   "id": "ae3f77c6",
   "metadata": {},
   "source": [
    "### Split Data"
   ]
  },
  {
   "cell_type": "code",
   "execution_count": 243,
   "id": "309416fd",
   "metadata": {},
   "outputs": [
    {
     "name": "stdout",
     "output_type": "stream",
     "text": [
      "Ukuran data latih: (30092, 9) (30092,)\n",
      "Ukuran data uji: (7524, 9) (7524,)\n"
     ]
    }
   ],
   "source": [
    "X = cardio_disease.drop(columns=['cardio'])\n",
    "y = cardio_disease['cardio'].astype(int)  # pastikan integer\n",
    "\n",
    "\n",
    "# Split dataset menjadi training dan testing set (80% train, 20% test)\n",
    "X_train, X_test, y_train, y_test = train_test_split(X, y, test_size=0.2, random_state=42)\n",
    "\n",
    "# Menampilkan ukuran dataset setelah splitting\n",
    "print(\"Ukuran data latih:\", X_train.shape, y_train.shape)\n",
    "print(\"Ukuran data uji:\", X_test.shape, y_test.shape)"
   ]
  },
  {
   "cell_type": "code",
   "execution_count": 244,
   "id": "ef1a5f36",
   "metadata": {},
   "outputs": [
    {
     "name": "stdout",
     "output_type": "stream",
     "text": [
      "Distribusi kelas: [16006 14086]\n"
     ]
    }
   ],
   "source": [
    "print(\"Distribusi kelas:\", np.bincount(y_train))"
   ]
  },
  {
   "cell_type": "markdown",
   "id": "ad3f2b07",
   "metadata": {},
   "source": [
    "## 5. Modelling"
   ]
  },
  {
   "cell_type": "markdown",
   "id": "c2b1edee",
   "metadata": {},
   "source": [
    "### XGBClassifier"
   ]
  },
  {
   "cell_type": "code",
   "execution_count": 245,
   "id": "f9923106",
   "metadata": {},
   "outputs": [
    {
     "name": "stderr",
     "output_type": "stream",
     "text": [
      "c:\\Users\\User\\AppData\\Local\\Programs\\Python\\Python312\\Lib\\site-packages\\xgboost\\training.py:183: UserWarning: [15:01:59] WARNING: C:\\actions-runner\\_work\\xgboost\\xgboost\\src\\learner.cc:738: \n",
      "Parameters: { \"use_label_encoder\" } are not used.\n",
      "\n",
      "  bst.update(dtrain, iteration=i, fobj=obj)\n"
     ]
    }
   ],
   "source": [
    "xgb = XGBClassifier(use_label_encoder=False, eval_metric='logloss', random_state=42)\n",
    "\n",
    "# Melatih model\n",
    "xgb.fit(X_train, y_train)\n",
    "\n",
    "# Prediksi\n",
    "y_pred_xgb = xgb.predict(X_test)\n",
    "y_proba_xgb = xgb.predict_proba(X_test)[:, 1]\n",
    "\n",
    "# Evaluasi\n",
    "accuracy_xgb = accuracy_score(y_test, y_pred_xgb)\n",
    "report_xgb = classification_report(y_test, y_pred_xgb)\n",
    "precision_xgb = precision_score(y_test, y_pred_xgb, average='weighted')\n",
    "recall_xgb = recall_score(y_test, y_pred_xgb, average='weighted')\n",
    "f1_xgb = f1_score(y_test, y_pred_xgb, average='weighted')\n",
    "roc_xgb = roc_auc_score(y_test, y_proba_xgb)"
   ]
  },
  {
   "cell_type": "markdown",
   "id": "4efbe751",
   "metadata": {},
   "source": [
    "### LightGBM Classifier"
   ]
  },
  {
   "cell_type": "code",
   "execution_count": 246,
   "id": "40de6e4a",
   "metadata": {},
   "outputs": [
    {
     "name": "stdout",
     "output_type": "stream",
     "text": [
      "[LightGBM] [Info] Number of positive: 14086, number of negative: 16006\n",
      "[LightGBM] [Info] Auto-choosing col-wise multi-threading, the overhead of testing was 0.001949 seconds.\n",
      "You can set `force_col_wise=true` to remove the overhead.\n",
      "[LightGBM] [Info] Total Bins 509\n",
      "[LightGBM] [Info] Number of data points in the train set: 30092, number of used features: 8\n",
      "[LightGBM] [Info] [binary:BoostFromScore]: pavg=0.468098 -> initscore=-0.127782\n",
      "[LightGBM] [Info] Start training from score -0.127782\n"
     ]
    }
   ],
   "source": [
    "lgb = LGBMClassifier(random_state=42)\n",
    "\n",
    "# Melatih model\n",
    "lgb.fit(X_train, y_train)\n",
    "\n",
    "# Prediksi\n",
    "y_pred_lgb = lgb.predict(X_test)\n",
    "y_proba_lgb = lgb.predict_proba(X_test)[:, 1]\n",
    "\n",
    "# Evaluasi\n",
    "accuracy_lgb = accuracy_score(y_test, y_pred_lgb)\n",
    "report_lgb = classification_report(y_test, y_pred_lgb)\n",
    "precision_lgb = precision_score(y_test, y_pred_lgb, average='weighted')\n",
    "recall_lgb = recall_score(y_test, y_pred_lgb, average='weighted')\n",
    "f1_lgb = f1_score(y_test, y_pred_lgb, average='weighted')\n",
    "roc_lgb = roc_auc_score(y_test, y_proba_lgb)"
   ]
  },
  {
   "cell_type": "markdown",
   "id": "494188b9",
   "metadata": {},
   "source": [
    "### Logistic Regression"
   ]
  },
  {
   "cell_type": "code",
   "execution_count": 247,
   "id": "4bf79b8b",
   "metadata": {},
   "outputs": [],
   "source": [
    "logreg = LogisticRegression(max_iter=1000, random_state=42)\n",
    "logreg.fit(X_train, y_train)\n",
    "\n",
    "y_pred_logreg = logreg.predict(X_test)\n",
    "y_proba_logreg = logreg.predict_proba(X_test)[:, 1]\n",
    "\n",
    "# Mengevaluasi performa model\n",
    "accuracy_logreg = accuracy_score(y_test, y_pred_logreg)\n",
    "report_logreg = classification_report(y_test, y_pred_logreg)\n",
    "precision_logreg = precision_score(y_test, y_pred_logreg, average='weighted')\n",
    "recall_logreg = recall_score(y_test, y_pred_logreg, average='weighted')\n",
    "f1_logreg = f1_score(y_test, y_pred_logreg, average='weighted')\n",
    "roc_logreg = roc_auc_score(y_test, y_proba_logreg)"
   ]
  },
  {
   "cell_type": "markdown",
   "id": "624339c0",
   "metadata": {},
   "source": [
    "### Random Forest"
   ]
  },
  {
   "cell_type": "code",
   "execution_count": 248,
   "id": "fbeac4aa",
   "metadata": {},
   "outputs": [],
   "source": [
    "rf = RandomForestClassifier(random_state=42)\n",
    "rf.fit(X_train, y_train)\n",
    "\n",
    "y_pred_rf = rf.predict(X_test)\n",
    "y_proba_rf = rf.predict_proba(X_test)[:, 1]\n",
    "\n",
    "accuracy_rf = accuracy_score(y_test, y_pred_rf)\n",
    "report_rf = classification_report(y_test, y_pred_rf)\n",
    "precision_rf = precision_score(y_test, y_pred_rf, average='weighted')\n",
    "recall_rf = recall_score(y_test, y_pred_rf, average='weighted')\n",
    "f1_rf = f1_score(y_test, y_pred_rf, average='weighted')\n",
    "roc_rf = roc_auc_score(y_test, y_proba_rf)"
   ]
  },
  {
   "cell_type": "markdown",
   "id": "8e666fbd",
   "metadata": {},
   "source": [
    "## 6. Evaluasi Model"
   ]
  },
  {
   "cell_type": "markdown",
   "id": "a3aec730",
   "metadata": {},
   "source": [
    "### XGBClassifier"
   ]
  },
  {
   "cell_type": "code",
   "execution_count": 249,
   "id": "2bf4d3fe",
   "metadata": {},
   "outputs": [
    {
     "data": {
      "text/html": [
       "<div>\n",
       "<style scoped>\n",
       "    .dataframe tbody tr th:only-of-type {\n",
       "        vertical-align: middle;\n",
       "    }\n",
       "\n",
       "    .dataframe tbody tr th {\n",
       "        vertical-align: top;\n",
       "    }\n",
       "\n",
       "    .dataframe thead th {\n",
       "        text-align: right;\n",
       "    }\n",
       "</style>\n",
       "<table border=\"1\" class=\"dataframe\">\n",
       "  <thead>\n",
       "    <tr style=\"text-align: right;\">\n",
       "      <th></th>\n",
       "      <th>Matriks</th>\n",
       "      <th>Score</th>\n",
       "    </tr>\n",
       "  </thead>\n",
       "  <tbody>\n",
       "    <tr>\n",
       "      <th>0</th>\n",
       "      <td>Accuracy</td>\n",
       "      <td>0.731792</td>\n",
       "    </tr>\n",
       "    <tr>\n",
       "      <th>1</th>\n",
       "      <td>Precision</td>\n",
       "      <td>0.733824</td>\n",
       "    </tr>\n",
       "    <tr>\n",
       "      <th>2</th>\n",
       "      <td>Recall</td>\n",
       "      <td>0.731792</td>\n",
       "    </tr>\n",
       "    <tr>\n",
       "      <th>3</th>\n",
       "      <td>F1-Score</td>\n",
       "      <td>0.729307</td>\n",
       "    </tr>\n",
       "    <tr>\n",
       "      <th>4</th>\n",
       "      <td>ROC AUC Score</td>\n",
       "      <td>0.787201</td>\n",
       "    </tr>\n",
       "  </tbody>\n",
       "</table>\n",
       "</div>"
      ],
      "text/plain": [
       "         Matriks     Score\n",
       "0       Accuracy  0.731792\n",
       "1      Precision  0.733824\n",
       "2         Recall  0.731792\n",
       "3       F1-Score  0.729307\n",
       "4  ROC AUC Score  0.787201"
      ]
     },
     "execution_count": 249,
     "metadata": {},
     "output_type": "execute_result"
    }
   ],
   "source": [
    "metrics_xgb = pd.DataFrame({\n",
    "    \"Matriks\": [\"Accuracy\", \"Precision\", \"Recall\", \"F1-Score\", \"ROC AUC Score\"],\n",
    "    \"Score\": [accuracy_xgb, precision_xgb, recall_xgb, f1_xgb, roc_xgb]\n",
    "})\n",
    "\n",
    "metrics_xgb"
   ]
  },
  {
   "cell_type": "code",
   "execution_count": 250,
   "id": "e570c0b2",
   "metadata": {},
   "outputs": [
    {
     "data": {
      "image/png": "[encoded data removed]",
      "text/plain": [
       "<Figure size 800x600 with 2 Axes>"
      ]
     },
     "metadata": {},
     "output_type": "display_data"
    }
   ],
   "source": [
    "cm_xgb = confusion_matrix(y_test, y_pred_xgb)\n",
    "\n",
    "plt.figure(figsize=(8, 6))\n",
    "sns.heatmap(cm_xgb, annot=True, fmt=\"d\", cmap=\"Greens\", xticklabels=set(y_test), yticklabels=set(y_test))\n",
    "plt.xlabel(\"Predicted Label\")\n",
    "plt.ylabel(\"True Label\")\n",
    "plt.title(\"Confusion Matrix - XGBoost\")\n",
    "plt.show()"
   ]
  },
  {
   "cell_type": "markdown",
   "id": "1a08500b",
   "metadata": {},
   "source": [
    "Model XGBoost Classifier menunjukkan performa yang sangat baik dalam mendeteksi penyakit cardiovascular berdasarkan data yang diberikan. Dengan akurasi sebesar 73,18%, model ini mampu mengklasifikasikan data dengan cukup tepat. Nilai precision (73,38%) dan recall (73,18%) yang seimbang menunjukkan bahwa model tidak bias terhadap salah satu kelas dan mampu mengenali kasus positif maupun negatif secara konsisten. Nilai F1-score sebesar 72,93% mengindikasikan keseimbangan yang baik antara presisi dan sensitivitas. Sementara itu, ROC AUC Score sebesar 78,72% mencerminkan kemampuan model yang tinggi dalam membedakan antara dua kelas."
   ]
  },
  {
   "cell_type": "markdown",
   "id": "b062f298",
   "metadata": {},
   "source": [
    "### LightGBM Classifier"
   ]
  },
  {
   "cell_type": "code",
   "execution_count": 251,
   "id": "ba19b78f",
   "metadata": {},
   "outputs": [
    {
     "data": {
      "text/html": [
       "<div>\n",
       "<style scoped>\n",
       "    .dataframe tbody tr th:only-of-type {\n",
       "        vertical-align: middle;\n",
       "    }\n",
       "\n",
       "    .dataframe tbody tr th {\n",
       "        vertical-align: top;\n",
       "    }\n",
       "\n",
       "    .dataframe thead th {\n",
       "        text-align: right;\n",
       "    }\n",
       "</style>\n",
       "<table border=\"1\" class=\"dataframe\">\n",
       "  <thead>\n",
       "    <tr style=\"text-align: right;\">\n",
       "      <th></th>\n",
       "      <th>Matriks</th>\n",
       "      <th>Score</th>\n",
       "    </tr>\n",
       "  </thead>\n",
       "  <tbody>\n",
       "    <tr>\n",
       "      <th>0</th>\n",
       "      <td>Accuracy</td>\n",
       "      <td>0.736975</td>\n",
       "    </tr>\n",
       "    <tr>\n",
       "      <th>1</th>\n",
       "      <td>Precision</td>\n",
       "      <td>0.739307</td>\n",
       "    </tr>\n",
       "    <tr>\n",
       "      <th>2</th>\n",
       "      <td>Recall</td>\n",
       "      <td>0.736975</td>\n",
       "    </tr>\n",
       "    <tr>\n",
       "      <th>3</th>\n",
       "      <td>F1-Score</td>\n",
       "      <td>0.734458</td>\n",
       "    </tr>\n",
       "    <tr>\n",
       "      <th>4</th>\n",
       "      <td>ROC AUC Score</td>\n",
       "      <td>0.794682</td>\n",
       "    </tr>\n",
       "  </tbody>\n",
       "</table>\n",
       "</div>"
      ],
      "text/plain": [
       "         Matriks     Score\n",
       "0       Accuracy  0.736975\n",
       "1      Precision  0.739307\n",
       "2         Recall  0.736975\n",
       "3       F1-Score  0.734458\n",
       "4  ROC AUC Score  0.794682"
      ]
     },
     "execution_count": 251,
     "metadata": {},
     "output_type": "execute_result"
    }
   ],
   "source": [
    "metrics_lgb = pd.DataFrame({\n",
    "    \"Matriks\": [\"Accuracy\", \"Precision\", \"Recall\", \"F1-Score\", \"ROC AUC Score\"],\n",
    "    \"Score\": [accuracy_lgb, precision_lgb, recall_lgb, f1_lgb, roc_lgb]\n",
    "})\n",
    "\n",
    "metrics_lgb"
   ]
  },
  {
   "cell_type": "code",
   "execution_count": 252,
   "id": "5c979b1a",
   "metadata": {},
   "outputs": [
    {
     "data": {
      "image/png": "[encoded data removed]",
      "text/plain": [
       "<Figure size 800x600 with 2 Axes>"
      ]
     },
     "metadata": {},
     "output_type": "display_data"
    }
   ],
   "source": [
    "cm_lgb = confusion_matrix(y_test, y_pred_lgb)\n",
    "\n",
    "plt.figure(figsize=(8, 6))\n",
    "sns.heatmap(cm_lgb, annot=True, fmt=\"d\", cmap=\"Blues\", xticklabels=set(y_test), yticklabels=set(y_test))\n",
    "plt.xlabel(\"Predicted Label\")\n",
    "plt.ylabel(\"True Label\")\n",
    "plt.title(\"Confusion Matrix - LightGBM\")\n",
    "plt.show()"
   ]
  },
  {
   "cell_type": "markdown",
   "id": "a2b35622",
   "metadata": {},
   "source": [
    "Model LightGBM Classifier menunjukkan performa yang baik dalam klasifikasi penyakit cardiovascular. Dengan akurasi sebesar 73,70%, model ini sedikit lebih unggul dibandingkan XGBoost. Nilai precision (73,93%) dan recall (73,70%) yang tinggi menunjukkan bahwa model ini mampu memprediksi kedua kelas dengan baik dan seimbang. F1-score sebesar 73,44% juga memperkuat bukti bahwa model ini efektif dalam menjaga keseimbangan antara false positives dan false negatives. ROC AUC Score sebesar 79,47% menandakan kemampuan model dalam membedakan antara pasien yang memiliki dan tidak memiliki penyakit cardiovascular secara sangat baik."
   ]
  },
  {
   "cell_type": "markdown",
   "id": "703850da",
   "metadata": {},
   "source": [
    "### Logistic Regression"
   ]
  },
  {
   "cell_type": "code",
   "execution_count": 253,
   "id": "fadcdf69",
   "metadata": {},
   "outputs": [
    {
     "data": {
      "text/html": [
       "<div>\n",
       "<style scoped>\n",
       "    .dataframe tbody tr th:only-of-type {\n",
       "        vertical-align: middle;\n",
       "    }\n",
       "\n",
       "    .dataframe tbody tr th {\n",
       "        vertical-align: top;\n",
       "    }\n",
       "\n",
       "    .dataframe thead th {\n",
       "        text-align: right;\n",
       "    }\n",
       "</style>\n",
       "<table border=\"1\" class=\"dataframe\">\n",
       "  <thead>\n",
       "    <tr style=\"text-align: right;\">\n",
       "      <th></th>\n",
       "      <th>Matriks</th>\n",
       "      <th>Score</th>\n",
       "    </tr>\n",
       "  </thead>\n",
       "  <tbody>\n",
       "    <tr>\n",
       "      <th>0</th>\n",
       "      <td>Accuracy</td>\n",
       "      <td>0.732057</td>\n",
       "    </tr>\n",
       "    <tr>\n",
       "      <th>1</th>\n",
       "      <td>Precision</td>\n",
       "      <td>0.735895</td>\n",
       "    </tr>\n",
       "    <tr>\n",
       "      <th>2</th>\n",
       "      <td>Recall</td>\n",
       "      <td>0.732057</td>\n",
       "    </tr>\n",
       "    <tr>\n",
       "      <th>3</th>\n",
       "      <td>F1-Score</td>\n",
       "      <td>0.728631</td>\n",
       "    </tr>\n",
       "    <tr>\n",
       "      <th>4</th>\n",
       "      <td>ROC AUC Score</td>\n",
       "      <td>0.791086</td>\n",
       "    </tr>\n",
       "  </tbody>\n",
       "</table>\n",
       "</div>"
      ],
      "text/plain": [
       "         Matriks     Score\n",
       "0       Accuracy  0.732057\n",
       "1      Precision  0.735895\n",
       "2         Recall  0.732057\n",
       "3       F1-Score  0.728631\n",
       "4  ROC AUC Score  0.791086"
      ]
     },
     "execution_count": 253,
     "metadata": {},
     "output_type": "execute_result"
    }
   ],
   "source": [
    "# Menampilkan dalam DataFrame\n",
    "metrics_logreg = pd.DataFrame({\n",
    "    \"Matriks\": [\"Accuracy\", \"Precision\", \"Recall\", \"F1-Score\", \"ROC AUC Score\"],\n",
    "    \"Score\": [accuracy_logreg, precision_logreg, recall_logreg, f1_logreg, roc_logreg]\n",
    "})\n",
    "\n",
    "metrics_logreg"
   ]
  },
  {
   "cell_type": "code",
   "execution_count": 254,
   "id": "cad7f623",
   "metadata": {},
   "outputs": [
    {
     "data": {
      "image/png": "[encoded data removed]",
      "text/plain": [
       "<Figure size 800x600 with 2 Axes>"
      ]
     },
     "metadata": {},
     "output_type": "display_data"
    }
   ],
   "source": [
    "cm_logreg = confusion_matrix(y_test, y_pred_logreg)\n",
    "\n",
    "# Visualisasi Confusion Matrix\n",
    "plt.figure(figsize=(8, 6))\n",
    "sns.heatmap(cm_logreg, annot=True, fmt=\"d\", cmap=\"Oranges\", xticklabels=set(y_test), yticklabels=set(y_test))\n",
    "plt.xlabel(\"Predicted Label\")\n",
    "plt.ylabel(\"True Label\")\n",
    "plt.title(\"Confusion Matrix - K-Nearest Neighbours\")\n",
    "plt.show()"
   ]
  },
  {
   "cell_type": "markdown",
   "id": "b57ef478",
   "metadata": {},
   "source": [
    "Model Logistic Regression menunjukkan performa yang kompetitif dalam memprediksi penyakit cardiovascular. Dengan akurasi sebesar 73,21%, model ini memberikan hasil klasifikasi yang cukup baik. Nilai precision (73,59%) dan recall (73,21%) yang seimbang mengindikasikan bahwa model ini konsisten dalam mengenali kedua kelas. F1-score sebesar 72,86% menunjukkan bahwa model menjaga keseimbangan prediksi. Meskipun model ini lebih sederhana dibandingkan XGBoost atau LightGBM, ROC AUC Score sebesar 79,11% menunjukkan bahwa Logistic Regression tetap memiliki kemampuan dalam membedakan antara pasien yang memiliki dan tidak memiliki penyakit."
   ]
  },
  {
   "cell_type": "markdown",
   "id": "8ccb41d0",
   "metadata": {},
   "source": [
    "### Random Forest"
   ]
  },
  {
   "cell_type": "code",
   "execution_count": 255,
   "id": "b61357ee",
   "metadata": {},
   "outputs": [
    {
     "data": {
      "text/html": [
       "<div>\n",
       "<style scoped>\n",
       "    .dataframe tbody tr th:only-of-type {\n",
       "        vertical-align: middle;\n",
       "    }\n",
       "\n",
       "    .dataframe tbody tr th {\n",
       "        vertical-align: top;\n",
       "    }\n",
       "\n",
       "    .dataframe thead th {\n",
       "        text-align: right;\n",
       "    }\n",
       "</style>\n",
       "<table border=\"1\" class=\"dataframe\">\n",
       "  <thead>\n",
       "    <tr style=\"text-align: right;\">\n",
       "      <th></th>\n",
       "      <th>Matriks</th>\n",
       "      <th>Score</th>\n",
       "    </tr>\n",
       "  </thead>\n",
       "  <tbody>\n",
       "    <tr>\n",
       "      <th>0</th>\n",
       "      <td>Accuracy</td>\n",
       "      <td>0.700691</td>\n",
       "    </tr>\n",
       "    <tr>\n",
       "      <th>1</th>\n",
       "      <td>Precision</td>\n",
       "      <td>0.700244</td>\n",
       "    </tr>\n",
       "    <tr>\n",
       "      <th>2</th>\n",
       "      <td>Recall</td>\n",
       "      <td>0.700691</td>\n",
       "    </tr>\n",
       "    <tr>\n",
       "      <th>3</th>\n",
       "      <td>F1-Score</td>\n",
       "      <td>0.700231</td>\n",
       "    </tr>\n",
       "    <tr>\n",
       "      <th>4</th>\n",
       "      <td>ROC AUC</td>\n",
       "      <td>0.757720</td>\n",
       "    </tr>\n",
       "  </tbody>\n",
       "</table>\n",
       "</div>"
      ],
      "text/plain": [
       "     Matriks     Score\n",
       "0   Accuracy  0.700691\n",
       "1  Precision  0.700244\n",
       "2     Recall  0.700691\n",
       "3   F1-Score  0.700231\n",
       "4    ROC AUC  0.757720"
      ]
     },
     "execution_count": 255,
     "metadata": {},
     "output_type": "execute_result"
    }
   ],
   "source": [
    "# Menampilkan dalam DataFrame\n",
    "metrics_rf = pd.DataFrame({\n",
    "    \"Matriks\": [\"Accuracy\", \"Precision\", \"Recall\", \"F1-Score\", \"ROC AUC\"],\n",
    "    \"Score\": [accuracy_rf, precision_rf, recall_rf, f1_rf, roc_rf]\n",
    "})\n",
    "\n",
    "metrics_rf"
   ]
  },
  {
   "cell_type": "code",
   "execution_count": 256,
   "id": "f6050b1f",
   "metadata": {},
   "outputs": [
    {
     "data": {
      "image/png": "[encoded data removed]",
      "text/plain": [
       "<Figure size 800x600 with 2 Axes>"
      ]
     },
     "metadata": {},
     "output_type": "display_data"
    }
   ],
   "source": [
    "\n",
    "cm_rf = confusion_matrix(y_test, y_pred_rf)\n",
    "\n",
    "# Visualisasi Confusion Matrix\n",
    "plt.figure(figsize=(8, 6))\n",
    "sns.heatmap(cm_rf, annot=True, fmt=\"d\", cmap=\"Oranges\", xticklabels=set(y_test), yticklabels=set(y_test))\n",
    "plt.xlabel(\"Predicted Label\")\n",
    "plt.ylabel(\"True Label\")\n",
    "plt.title(\"Confusion Matrix - K-Nearest Neighbours\")\n",
    "plt.show()"
   ]
  },
  {
   "cell_type": "markdown",
   "id": "5c2fda4d",
   "metadata": {},
   "source": [
    "Model Random Forest Classifier memberikan hasil klasifikasi yang cukup solid dalam mendeteksi penyakit cardiovascular. Dengan akurasi sebesar 70,07%, model ini menunjukkan performa yang stabil namun sedikit lebih rendah dibandingkan Logistic Regression, XGBoost, maupun LightGBM. Nilai precision (70,02%), recall (70,07%), dan F1-score (70,02%) yang hampir identik menunjukkan konsistensi model dalam mengklasifikasikan data, meskipun tanpa keunggulan signifikan. Sementara itu, ROC AUC Score sebesar 75,77% menunjukkan bahwa model masih memiliki kemampuan yang baik dalam membedakan antara pasien yang memiliki dan tidak memiliki penyakit."
   ]
  }
 ],
 "metadata": {
  "kernelspec": {
   "display_name": "Python 3",
   "language": "python",
   "name": "python3"
  },
  "language_info": {
   "codemirror_mode": {
    "name": "ipython",
    "version": 3
   },
   "file_extension": ".py",
   "mimetype": "text/x-python",
   "name": "python",
   "nbconvert_exporter": "python",
   "pygments_lexer": "ipython3",
   "version": "3.12.6"
  }
 },
 "nbformat": 4,
 "nbformat_minor": 5
}
